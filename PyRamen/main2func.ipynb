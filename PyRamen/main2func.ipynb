{
 "metadata": {
  "language_info": {
   "codemirror_mode": {
    "name": "ipython",
    "version": 3
   },
   "file_extension": ".py",
   "mimetype": "text/x-python",
   "name": "python",
   "nbconvert_exporter": "python",
   "pygments_lexer": "ipython3",
   "version": "3.8.3-final"
  },
  "orig_nbformat": 2,
  "kernelspec": {
   "name": "Python 3.8.3 64-bit ('base': conda)",
   "display_name": "Python 3.8.3 64-bit ('base': conda)",
   "metadata": {
    "interpreter": {
     "hash": "ad325eb2062f4ba0a904c20d805e4fe434252bd0d867ca2161e7f9dc4ab32e90"
    }
   }
  }
 },
 "nbformat": 4,
 "nbformat_minor": 2,
 "cells": [
  {
   "cell_type": "code",
   "execution_count": 5,
   "metadata": {
    "tags": []
   },
   "outputs": [],
   "source": [
    "# PyRamen project: optional\n",
    "\"\"\"\n",
    "Author: H.Carolina Benzaquen\n",
    "initial Date: 09/21/20\n",
    "\n",
    "\"\"\"\n",
    "\n",
    "# step 1: import required libraries\n",
    "from pathlib import Path\n",
    "import csv\n",
    "from ext_data_interface import import_csvfiles_skip\n",
    "\n",
    "\n",
    "# step 2: initialize lists and dictionary\n",
    "\n",
    "sales = []\n",
    "menu = []\n",
    "report = {}\n",
    "\n",
    "# step 3: Read and iterate over csv libraries to extract data\n",
    "\n",
    "# step 3.1: set the extraction path\n",
    "\n",
    "filepath_menu = Path (\"Resources/menu_data.csv\") \n",
    "filepath_sales = Path(\"Resources/sales_data.csv\")\n",
    "\n",
    "# step 3.2: extract data from csv import and transfer into libraries\n",
    "\n",
    "import_csvfiles_skip(filepath_menu,menu,1) # used functions from separate module\n",
    "\n",
    "#print(menu)\n",
    "\n",
    "import_csvfiles_skip(filepath_sales,sales,1) # used functions from separate module\n",
    "#print(sales)\n",
    "\n",
    "\n",
    "for row in sales:\n",
    "    sales_item = row[4]\n",
    "    sales_quantity = int(row[3])\n",
    "    if sales_item not in report:\n",
    "        report[sales_item] = {\"01-count\": 0, # this is to initialize the dictionary key with the sales item\n",
    "            \"02-revenue\": 0,\n",
    "            \"03-cogs\": 0,\n",
    "            \"04-profit\": 0}\n",
    "    \n",
    "    for menu_list in menu:  # this is to populate the dictionary with the sales data\n",
    "        menu_item = menu_list[0]\n",
    "        cost_item = float(menu_list[4])\n",
    "        price_item = float(menu_list[3])\n",
    "        profit = price_item - cost_item\n",
    "\n",
    "        \n",
    "        if (sales_item == menu_item):\n",
    "            report[sales_item][\"01-count\"] += sales_quantity\n",
    "            report[sales_item][\"02-revenue\"] += price_item * sales_quantity\n",
    "            report[sales_item][\"03-cogs\"] += cost_item * sales_quantity\n",
    "            report[sales_item][\"04-profit\"] += profit * sales_quantity\n",
    "\n",
    "\n",
    "#print(report)\n",
    "\n",
    "# Output file generation:\n",
    "\n",
    "filewrite = open(\"Outputs/export2.txt\", \"w+\")\n",
    "\n",
    "for key in report:\n",
    "    key_entry = report[key]\n",
    "    filewrite.write(f\"{key} : {key_entry}\\n\")\n",
    "\n",
    "    \n",
    "filewrite.close()\n"
   ]
  },
  {
   "cell_type": "code",
   "execution_count": null,
   "metadata": {},
   "outputs": [],
   "source": []
  }
 ]
}