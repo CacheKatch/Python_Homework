{
 "metadata": {
  "language_info": {
   "codemirror_mode": {
    "name": "ipython",
    "version": 3
   },
   "file_extension": ".py",
   "mimetype": "text/x-python",
   "name": "python",
   "nbconvert_exporter": "python",
   "pygments_lexer": "ipython3",
   "version": "3.8.3-final"
  },
  "orig_nbformat": 2,
  "kernelspec": {
   "name": "python_defaultSpec_1600709363401",
   "display_name": "Python 3.8.3 64-bit ('base': conda)"
  }
 },
 "nbformat": 4,
 "nbformat_minor": 2,
 "cells": [
  {
   "cell_type": "code",
   "execution_count": 7,
   "metadata": {
    "tags": []
   },
   "outputs": [],
   "source": [
    "# PyRamen project: optional\n",
    "\"\"\"\n",
    "Author: H.Carolina Benzaquen\n",
    "initial Date: 09/21/20\n",
    "\n",
    "\"\"\"\n",
    "\n",
    "# step 1: import required libraries\n",
    "from pathlib import Path\n",
    "import csv\n",
    "\n",
    "# step 2: initialize lists\n",
    "\n",
    "sales = []\n",
    "menu = []\n",
    "\n",
    "# step 3: Read and iterate over csv libraries to extract data\n",
    "\n",
    "# step 3.1: set the extraction path\n",
    "\n",
    "filepath_menu = Path (\"Resources/menu_data.csv\") \n",
    "filepath_sales = Path(\"Resources/sales_data.csv\")\n",
    "\n",
    "# step 3.2: extract data from csv import and transfer into libraries\n",
    "\n",
    "with open(filepath_menu,\"r\") as csvfile:\n",
    "    #print(csv.reader(csvfile))\n",
    "    csvreader = csv.reader(csvfile,delimiter=\",\")\n",
    "    #print(type(csvreader))\n",
    "    header = next(csvreader)\n",
    "    for row in csvreader:\n",
    "        menu.append(row)\n",
    "    \n",
    "    #print(menu)\n",
    "\n",
    "with open(filepath_sales,\"r\") as csvfile:\n",
    "    #print(csv.reader(csvfile))\n",
    "    csvreader = csv.reader(csvfile,delimiter=\",\")\n",
    "    #print(type(csvreader))\n",
    "    header = next(csvreader)\n",
    "    for row in csvreader:\n",
    "        sales.append(row)\n",
    "\n",
    "    #print(sales)\n",
    "\n",
    "\n",
    "\n",
    "\n",
    "\n"
   ]
  },
  {
   "cell_type": "code",
   "execution_count": null,
   "metadata": {},
   "outputs": [],
   "source": []
  }
 ]
}