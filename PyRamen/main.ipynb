{
 "metadata": {
  "language_info": {
   "codemirror_mode": {
    "name": "ipython",
    "version": 3
   },
   "file_extension": ".py",
   "mimetype": "text/x-python",
   "name": "python",
   "nbconvert_exporter": "python",
   "pygments_lexer": "ipython3",
   "version": "3.8.3-final"
  },
  "orig_nbformat": 2,
  "kernelspec": {
   "name": "Python 3.8.3 64-bit ('Trader': virtualenv)",
   "display_name": "Python 3.8.3 64-bit ('Trader': virtualenv)",
   "metadata": {
    "interpreter": {
     "hash": "ad325eb2062f4ba0a904c20d805e4fe434252bd0d867ca2161e7f9dc4ab32e90"
    }
   }
  }
 },
 "nbformat": 4,
 "nbformat_minor": 2,
 "cells": [
  {
   "cell_type": "code",
   "execution_count": 4,
   "metadata": {
    "tags": []
   },
   "outputs": [
    {
     "output_type": "stream",
     "name": "stdout",
     "text": "{'spicy miso ramen': {'01-count': 9238, '02-revenue': 110856.0, '03-cogs': 46190.0, '04-profit': 64666.0}, 'tori paitan ramen': {'01-count': 9156, '02-revenue': 119028.0, '03-cogs': 54936.0, '04-profit': 64092.0}, 'truffle butter ramen': {'01-count': 8982, '02-revenue': 125748.0, '03-cogs': 62874.0, '04-profit': 62874.0}, 'tonkotsu ramen': {'01-count': 9288, '02-revenue': 120744.0, '03-cogs': 55728.0, '04-profit': 65016.0}, 'vegetarian spicy miso': {'01-count': 9216, '02-revenue': 110592.0, '03-cogs': 46080.0, '04-profit': 64512.0}, 'shio ramen': {'01-count': 9180, '02-revenue': 100980.0, '03-cogs': 45900.0, '04-profit': 55080.0}, 'miso crab ramen': {'01-count': 8890, '02-revenue': 106680.0, '03-cogs': 53340.0, '04-profit': 53340.0}, 'nagomi shoyu': {'01-count': 9132, '02-revenue': 100452.0, '03-cogs': 45660.0, '04-profit': 54792.0}, 'soft-shell miso crab ramen': {'01-count': 9130, '02-revenue': 127820.0, '03-cogs': 63910.0, '04-profit': 63910.0}, 'burnt garlic tonkotsu ramen': {'01-count': 9070, '02-revenue': 126980.0, '03-cogs': 54420.0, '04-profit': 72560.0}, 'vegetarian curry + king trumpet mushroom ramen': {'01-count': 8824, '02-revenue': 114712.0, '03-cogs': 61768.0, '04-profit': 52944.0}}\n"
    }
   ],
   "source": [
    "# PyRamen project: optional\n",
    "\"\"\"\n",
    "Author: H.Carolina Benzaquen\n",
    "initial Date: 09/21/20\n",
    "\n",
    "\"\"\"\n",
    "\n",
    "# step 1: import required libraries\n",
    "from pathlib import Path\n",
    "import csv\n",
    "\n",
    "# step 2: initialize lists and dictionary\n",
    "\n",
    "sales = []\n",
    "menu = []\n",
    "report = {}\n",
    "\n",
    "# step 3: Read and iterate over csv libraries to extract data\n",
    "\n",
    "# step 3.1: set the extraction path\n",
    "\n",
    "filepath_menu = Path (\"Resources/menu_data.csv\") \n",
    "filepath_sales = Path(\"Resources/sales_data.csv\")\n",
    "\n",
    "# step 3.2: extract data from csv import and transfer into libraries\n",
    "\n",
    "with open(filepath_menu,\"r\") as csvfile:\n",
    "    #print(csv.reader(csvfile))\n",
    "    csvreader = csv.reader(csvfile,delimiter=\",\")\n",
    "    #print(type(csvreader))\n",
    "    header = next(csvreader)\n",
    "    for row in csvreader:\n",
    "        menu.append(row)\n",
    "    \n",
    "    #print(menu)\n",
    "\n",
    "with open(filepath_sales,\"r\") as csvfile:\n",
    "    #print(csv.reader(csvfile))\n",
    "    csvreader = csv.reader(csvfile,delimiter=\",\")\n",
    "    #print(type(csvreader))\n",
    "    header = next(csvreader)\n",
    "    for row in csvreader:\n",
    "        sales.append(row)\n",
    "\n",
    "    #print(sales)\n",
    "\n",
    "\n",
    "for row in sales:\n",
    "    sales_item = row[4]\n",
    "    sales_quantity = int(row[3])\n",
    "    if sales_item not in report:\n",
    "        report[sales_item] = {\"01-count\": 0, # this is to initialize the dictionary key with the sales item\n",
    "            \"02-revenue\": 0,\n",
    "            \"03-cogs\": 0,\n",
    "            \"04-profit\": 0}\n",
    "    \n",
    "    for menu_list in menu:  # this is to populate the dictionary with the sales data\n",
    "        menu_item = menu_list[0]\n",
    "        cost_item = float(menu_list[4])\n",
    "        price_item = float(menu_list[3])\n",
    "        profit = price_item - cost_item\n",
    "\n",
    "        \n",
    "        if (sales_item == menu_item):\n",
    "            report[sales_item][\"01-count\"] += sales_quantity\n",
    "            report[sales_item][\"02-revenue\"] += price_item * sales_quantity\n",
    "            report[sales_item][\"03-cogs\"] += cost_item * sales_quantity\n",
    "            report[sales_item][\"04-profit\"] += profit * sales_quantity\n",
    "\n",
    "\n",
    "print(report)\n",
    "\n"
   ]
  },
  {
   "cell_type": "code",
   "execution_count": null,
   "metadata": {},
   "outputs": [],
   "source": []
  }
 ]
}